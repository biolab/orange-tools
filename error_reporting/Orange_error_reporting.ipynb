{
 "cells": [
  {
   "cell_type": "markdown",
   "metadata": {},
   "source": [
    "# Error reporting"
   ]
  },
  {
   "cell_type": "markdown",
   "metadata": {},
   "source": [
    "Orange Data Mining error reports are saved on Orange server. The script below scans error report's files and collects some information. Collected data is saved to a file in CVS format."
   ]
  },
  {
   "cell_type": "markdown",
   "metadata": {},
   "source": [
    "## Settings"
   ]
  },
  {
   "cell_type": "markdown",
   "metadata": {},
   "source": [
    "Please change PATH."
   ]
  },
  {
   "cell_type": "code",
   "execution_count": null,
   "metadata": {
    "collapsed": true
   },
   "outputs": [],
   "source": [
    "# Please write folder to scan:\n",
    "# /srv/error_report/ biolab.si server\n",
    "PATH = \"\""
   ]
  },
  {
   "cell_type": "markdown",
   "metadata": {},
   "source": [
    "## Imports, constancs, functions"
   ]
  },
  {
   "cell_type": "code",
   "execution_count": null,
   "metadata": {
    "collapsed": true
   },
   "outputs": [],
   "source": [
    "import json\n",
    "import fnmatch\n",
    "import os\n",
    "\n",
    "import pathlib\n",
    "\n",
    "import pandas as pd\n",
    "\n",
    "\n",
    "ADDONS = tuple(set((\"Orange3-ImageAnalytics\", \"Orange3-Educational\", \"Orange3-Text\", \"Orange3-Prototypes\",\n",
    "                    \"Orange3-Geo\", \"Orange3-Datasets\", \"Orange3-DataFusion\", \"Orange3-Recommendation\",\n",
    "                    \"Orange-Bioinformatics\", \"Orange3-Network\", \"Orange3-Timeseries\", \"Orange-Infrared\",\n",
    "                    \"Orange3-Variants\", \"Orange3-Textable\", \"Orange3-Textable-Prototypes\", \"Orange3-spark\",\n",
    "                    \"tomwer\")))\n",
    "\n",
    "df_sentry = pd.DataFrame(\n",
    "    columns=['datetime',\n",
    "             'orange_version',\n",
    "             'python',\n",
    "             'os',\n",
    "             'module',\n",
    "             'widget_module',\n",
    "             'widget_name',\n",
    "             'exception',\n",
    "             'machine_id',\n",
    "             *ADDONS])\n",
    "\n",
    "def scan(topdir):\n",
    "    \"\"\"\n",
    "    Return file system paths under `topdir` that match error reports\n",
    "\n",
    "    Parameters\n",
    "    ----------\n",
    "    topdir: str\n",
    "        Top level directory path for the search.\n",
    "\n",
    "    Returns\n",
    "    -------\n",
    "    list of paths\n",
    "    \"\"\"\n",
    "    file_pattern = \"*.txt\"\n",
    "    exclude_folder = \"unknown\"  # Omit files in that subfolder.\n",
    "    paths = []\n",
    "\n",
    "    for dirpath, dirnames, filenames in os.walk(topdir):\n",
    "        for dirname in list(dirnames):\n",
    "            # do not recurse into hidden dirs\n",
    "            if fnmatch.fnmatch(dirname, \".*\") or fnmatch.fnmatch(dirname, exclude_folder):\n",
    "                dirnames.remove(dirname)\n",
    "        filenames = [fname for fname in filenames if fnmatch.fnmatch(fname.lower(), file_pattern)]\n",
    "        paths = paths + [os.path.join(dirpath, fname) for fname in filenames]\n",
    "    return paths"
   ]
  },
  {
   "cell_type": "markdown",
   "metadata": {},
   "source": [
    "## Scan direcotries and create list of files to read and analyze"
   ]
  },
  {
   "cell_type": "code",
   "execution_count": null,
   "metadata": {},
   "outputs": [],
   "source": [
    "paths = scan(PATH)\n",
    "print(\"Total files: \", len(paths))"
   ]
  },
  {
   "cell_type": "markdown",
   "metadata": {},
   "source": [
    "## Main loop"
   ]
  },
  {
   "cell_type": "code",
   "execution_count": null,
   "metadata": {
    "scrolled": true
   },
   "outputs": [],
   "source": [
    "errors = []\n",
    "for i, path in enumerate(paths):\n",
    "    try:\n",
    "        datetime = pd.to_datetime(pathlib.PurePosixPath(path).name[:-4])\n",
    "        with open(path, 'r') as f:\n",
    "            data = json.load(f)\n",
    "        if 'Exception' in data.keys():\n",
    "            exception = data['Exception'][0].split(\":\")[0]\n",
    "        elif 'Stack Trace' in data.keys():\n",
    "            exception = data['Stack Trace'][-2].split(\": \")[0]\n",
    "        else:\n",
    "            exception = \"\"\n",
    "        addons = [\"None\"] * len(ADDONS)\n",
    "        if \"Installed Packages\" in data.keys():\n",
    "            for i, a in enumerate(ADDONS):\n",
    "                addons[i] = a in data[\"Installed Packages\"]\n",
    "        python, os = data['Environment'][0].split(\" on \")[:2]\n",
    "        orange_version = data['Version'][0].split(\".dev\")[0]\n",
    "        os = (\"Linux\" in os and \"Linux\") or (\"Windows\" in os and \"Windows\") or (\"Darwin\" in os and \"Darwin\") or \"Other\"\n",
    "        widget_name = data['Widget Name'][0] if 'Widget Name' in data.keys() else \"\"\n",
    "        widget_module = data['Widget Module'][0].split(\":\")[0] if 'Widget Module' in data.keys() else \"\"\n",
    "        module = data['Module'][0].split(\":\")[0]\n",
    "        machine_id = data['Machine ID'][0]\n",
    "        df_sentry.loc[df_sentry.shape[0]] = [datetime,\n",
    "                                             orange_version, python, os, module, widget_module, widget_name,\n",
    "                                             exception, machine_id, *addons]\n",
    "    except Exception as e:\n",
    "        errors.append(i)\n",
    "print(\"Errors count: \", len(errors))"
   ]
  },
  {
   "cell_type": "markdown",
   "metadata": {},
   "source": [
    "## Do not forget to save"
   ]
  },
  {
   "cell_type": "code",
   "execution_count": null,
   "metadata": {
    "collapsed": true
   },
   "outputs": [],
   "source": [
    "df_sentry.to_csv('errors.csv')"
   ]
  },
  {
   "cell_type": "code",
   "execution_count": null,
   "metadata": {
    "collapsed": true
   },
   "outputs": [],
   "source": []
  }
 ],
 "metadata": {
  "kernelspec": {
   "display_name": "Python 3",
   "language": "python",
   "name": "python3"
  },
  "language_info": {
   "codemirror_mode": {
    "name": "ipython",
    "version": 3
   },
   "file_extension": ".py",
   "mimetype": "text/x-python",
   "name": "python",
   "nbconvert_exporter": "python",
   "pygments_lexer": "ipython3",
   "version": "3.6.2"
  }
 },
 "nbformat": 4,
 "nbformat_minor": 2
}
